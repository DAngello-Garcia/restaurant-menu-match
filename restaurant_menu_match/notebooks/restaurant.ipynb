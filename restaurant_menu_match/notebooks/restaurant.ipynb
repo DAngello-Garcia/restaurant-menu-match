{
 "cells": [
  {
   "cell_type": "code",
   "execution_count": 1,
   "id": "c5bd102e-d4e8-4dee-a3be-6d36b98e033a",
   "metadata": {},
   "outputs": [],
   "source": [
    "import pandas as pd\n",
    "import numpy as np"
   ]
  },
  {
   "cell_type": "code",
   "execution_count": 4,
   "id": "15594f79-4b05-46a4-8173-43edee4c50b1",
   "metadata": {},
   "outputs": [],
   "source": [
    "dataset_columns = pd.read_csv('../datasets/restaurant_db_data_dictionary.csv')"
   ]
  },
  {
   "cell_type": "code",
   "execution_count": 5,
   "id": "8e173176-2e4e-4df5-b74e-89a92adca962",
   "metadata": {},
   "outputs": [
    {
     "data": {
      "text/html": [
       "<div>\n",
       "<style scoped>\n",
       "    .dataframe tbody tr th:only-of-type {\n",
       "        vertical-align: middle;\n",
       "    }\n",
       "\n",
       "    .dataframe tbody tr th {\n",
       "        vertical-align: top;\n",
       "    }\n",
       "\n",
       "    .dataframe thead th {\n",
       "        text-align: right;\n",
       "    }\n",
       "</style>\n",
       "<table border=\"1\" class=\"dataframe\">\n",
       "  <thead>\n",
       "    <tr style=\"text-align: right;\">\n",
       "      <th></th>\n",
       "      <th>Table</th>\n",
       "      <th>Field</th>\n",
       "      <th>Description</th>\n",
       "    </tr>\n",
       "  </thead>\n",
       "  <tbody>\n",
       "    <tr>\n",
       "      <th>0</th>\n",
       "      <td>menu_items</td>\n",
       "      <td>menu_item_id</td>\n",
       "      <td>Unique ID of a menu item</td>\n",
       "    </tr>\n",
       "    <tr>\n",
       "      <th>1</th>\n",
       "      <td>menu_items</td>\n",
       "      <td>item_name</td>\n",
       "      <td>Name of a menu item</td>\n",
       "    </tr>\n",
       "    <tr>\n",
       "      <th>2</th>\n",
       "      <td>menu_items</td>\n",
       "      <td>category</td>\n",
       "      <td>Category or type of cuisine of the menu item</td>\n",
       "    </tr>\n",
       "    <tr>\n",
       "      <th>3</th>\n",
       "      <td>menu_items</td>\n",
       "      <td>price</td>\n",
       "      <td>Price of the menu item (US Dollars $)</td>\n",
       "    </tr>\n",
       "    <tr>\n",
       "      <th>4</th>\n",
       "      <td>order_details</td>\n",
       "      <td>order_details_id</td>\n",
       "      <td>Unique ID of an item in an order</td>\n",
       "    </tr>\n",
       "    <tr>\n",
       "      <th>5</th>\n",
       "      <td>order_details</td>\n",
       "      <td>order_id</td>\n",
       "      <td>ID of an order</td>\n",
       "    </tr>\n",
       "    <tr>\n",
       "      <th>6</th>\n",
       "      <td>order_details</td>\n",
       "      <td>order_date</td>\n",
       "      <td>Date an order was put in (MM/DD/YY)</td>\n",
       "    </tr>\n",
       "    <tr>\n",
       "      <th>7</th>\n",
       "      <td>order_details</td>\n",
       "      <td>order_time</td>\n",
       "      <td>Time an order was put in (HH:MM:SS AM/PM)</td>\n",
       "    </tr>\n",
       "    <tr>\n",
       "      <th>8</th>\n",
       "      <td>order_details</td>\n",
       "      <td>item_id</td>\n",
       "      <td>Matches the menu_item_id in the menu_items table</td>\n",
       "    </tr>\n",
       "  </tbody>\n",
       "</table>\n",
       "</div>"
      ],
      "text/plain": [
       "           Table             Field  \\\n",
       "0     menu_items      menu_item_id   \n",
       "1     menu_items         item_name   \n",
       "2     menu_items          category   \n",
       "3     menu_items             price   \n",
       "4  order_details  order_details_id   \n",
       "5  order_details          order_id   \n",
       "6  order_details        order_date   \n",
       "7  order_details        order_time   \n",
       "8  order_details           item_id   \n",
       "\n",
       "                                        Description  \n",
       "0                          Unique ID of a menu item  \n",
       "1                               Name of a menu item  \n",
       "2      Category or type of cuisine of the menu item  \n",
       "3             Price of the menu item (US Dollars $)  \n",
       "4                  Unique ID of an item in an order  \n",
       "5                                    ID of an order  \n",
       "6               Date an order was put in (MM/DD/YY)  \n",
       "7         Time an order was put in (HH:MM:SS AM/PM)  \n",
       "8  Matches the menu_item_id in the menu_items table  "
      ]
     },
     "execution_count": 5,
     "metadata": {},
     "output_type": "execute_result"
    }
   ],
   "source": [
    "dataset_columns"
   ]
  },
  {
   "cell_type": "code",
   "execution_count": null,
   "id": "91b69c40-f33b-4915-b1f2-17a9da93ac4d",
   "metadata": {},
   "outputs": [],
   "source": []
  }
 ],
 "metadata": {
  "kernelspec": {
   "display_name": "Python 3 (ipykernel)",
   "language": "python",
   "name": "python3"
  },
  "language_info": {
   "codemirror_mode": {
    "name": "ipython",
    "version": 3
   },
   "file_extension": ".py",
   "mimetype": "text/x-python",
   "name": "python",
   "nbconvert_exporter": "python",
   "pygments_lexer": "ipython3",
   "version": "3.11.1"
  }
 },
 "nbformat": 4,
 "nbformat_minor": 5
}
